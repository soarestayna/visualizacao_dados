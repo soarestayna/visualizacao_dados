{
 "cells": [
  {
   "metadata": {},
   "cell_type": "markdown",
   "source": "# Visualizações Avançadas com Seaborn – Dispersão, Densidade e Regressão",
   "id": "f8bc6484923d07c0"
  },
  {
   "metadata": {},
   "cell_type": "markdown",
   "source": [
    "#### Neste notebook exploramos relações entre variáveis numéricas e categóricas utilizando gráficos avançados do `seaborn`.\n",
    "#### As visualizações incluem dispersão, densidade, regressão e segmentação por grupo.\n",
    "\n",
    "---\n"
   ],
   "id": "fed7bf421dd8e8cb"
  },
  {
   "metadata": {},
   "cell_type": "markdown",
   "source": [
    "## 1. Leitura dos Dados\n",
    "\n",
    "Importamos o dataset `clientes-v3-preparado.csv` e visualizamos os primeiros registros.\n",
    "\n",
    "- `pandas` – manipulação de dados\n",
    "- `matplotlib.pyplot` – suporte à renderização dos gráficos\n",
    "- `seaborn` – visualizações estatísticas avançadas\n",
    "- `pathlib` – gerenciamento de caminhos de arquivos\n"
   ],
   "id": "2fc093e66a757aa"
  },
  {
   "metadata": {},
   "cell_type": "code",
   "outputs": [],
   "execution_count": null,
   "source": [
    "import pandas as pd\n",
    "import matplotlib.pyplot as plt\n",
    "import seaborn as sns\n",
    "from pathlib import Path\n",
    "\n",
    "data_path = Path('../dataset/clientes-v3-preparado.csv')\n",
    "df = pd.read_csv(data_path)\n",
    "\n",
    "print(df.head().to_string())"
   ],
   "id": "cac2309ffa77679f"
  },
  {
   "metadata": {},
   "cell_type": "markdown",
   "source": [
    "## 2. Gráfico de Dispersão – Idade vs Salário\n",
    "\n",
    "Utilizamos `jointplot` para visualizar a dispersão entre `idade` e `salario`, com histogramas marginais.\n",
    "\n",
    "\n",
    "O gráfico `jointplot` combina um gráfico de dispersão com histogramas nas margens, permitindo observar simultaneamente a **relação entre duas variáveis** e a **distribuição individual** de cada uma.\n",
    "\n",
    "Use `jointplot` quando quiser:\n",
    "- Visualizar a relação entre duas variáveis numéricas\n",
    "- Observar a distribuição marginal de cada variável\n",
    "- Identificar padrões, agrupamentos ou outliers\n",
    "- Explorar dados de forma mais completa que um scatter plot simples\n",
    "\n",
    "Neste notebook, usamos o `jointplot` para analisar a relação entre `idade` e `salario`.\n",
    "Esse tipo de gráfico nos permite entender se há uma tendência entre essas variáveis e como cada uma está distribuída individualmente."
   ],
   "id": "8b8ad991fcf5fb0e"
  },
  {
   "metadata": {},
   "cell_type": "code",
   "outputs": [],
   "execution_count": null,
   "source": [
    "sns.jointplot(x='idade', y='salario', data=df, kind='scatter') # ['scatter', 'hist', 'hex', 'kde', 'reg', 'resid']\n",
    "plt.show()"
   ],
   "id": "45792c5d7e1c3a06"
  },
  {
   "metadata": {},
   "cell_type": "markdown",
   "source": [
    "## 3. Gráfico de Densidade – Distribuição Salarial\n",
    "\n",
    "Visualizamos a distribuição de `salario` com `kdeplot`, que mostra a densidade estimada.\n",
    "\n",
    "O gráfico de densidade (`kdeplot`) é uma alternativa ao histograma que utiliza uma função de suavização para estimar a **distribuição contínua** de uma variável numérica.\n",
    "\n",
    "Use gráficos de densidade quando quiser:\n",
    "- Visualizar distribuições suaves e contínuas\n",
    "- Comparar distribuições entre grupos\n",
    "- Identificar picos, caudas e assimetrias nos dados\n",
    "- Explorar padrões sem a segmentação rígida dos histogramas\n",
    "\n",
    "Neste notebook, usamos o `kdeplot` para visualizar a variável `salario`.\n",
    "Esse tipo de gráfico nos permite observar a forma da distribuição salarial com mais suavidade, facilitando a identificação de padrões e possíveis assimetrias.\n"
   ],
   "id": "1a3697e0171b3185"
  },
  {
   "metadata": {},
   "cell_type": "code",
   "outputs": [],
   "execution_count": null,
   "source": [
    "plt.figure(figsize=(10, 6))\n",
    "sns.kdeplot(df['salario'], fill=True, color='#863e9c')\n",
    "plt.title('Densidade de Salários')\n",
    "plt.xlabel('Salário')\n",
    "plt.show()"
   ],
   "id": "b49fbf8c2901647b"
  },
  {
   "metadata": {},
   "cell_type": "markdown",
   "source": [
    "## 4. Gráfico de Pairplot – Relações entre Variáveis\n",
    "\n",
    "Utilizamos `pairplot` para visualizar múltiplas relações entre variáveis numéricas e categóricas.\n",
    "\n",
    "O `pairplot` cria uma matriz de gráficos de dispersão e histogramas para todas as combinações de variáveis selecionadas.\n",
    "É uma ferramenta poderosa para **exploração inicial** de dados, revelando **correlações, padrões e distribuições**.\n",
    "\n",
    "Use `pairplot` quando quiser:\n",
    "- Explorar múltiplas variáveis simultaneamente\n",
    "- Identificar relações entre variáveis numéricas\n",
    "- Visualizar distribuições marginais\n",
    "- Detectar padrões e possíveis agrupamentos\n",
    "\n",
    "Neste notebook, usamos o `pairplot` para analisar as variáveis `idade`, `salario`, `anos_experiencia` e `nivel_educacao`.\n",
    "Esse tipo de gráfico nos ajuda a entender como essas variáveis se relacionam entre si e a identificar possíveis correlações.\n"
   ],
   "id": "c10ac6fa7f6852fd"
  },
  {
   "metadata": {},
   "cell_type": "code",
   "outputs": [],
   "execution_count": null,
   "source": [
    "sns.pairplot(df[['idade', 'salario', 'anos_experiencia', 'nivel_educacao']])\n",
    "plt.show()"
   ],
   "id": "e735ddceb9e5f631"
  },
  {
   "metadata": {},
   "cell_type": "markdown",
   "source": [
    "## 5. Gráfico de Regressão – Salário por Idade\n",
    "\n",
    "Utilizamos `regplot` para visualizar a tendência de crescimento salarial com a idade.\n",
    "\n",
    "O `regplot` combina um gráfico de dispersão com uma **linha de regressão linear**, permitindo observar tendências e relações entre variáveis numéricas.\n",
    "\n",
    "Use `regplot` quando quiser:\n",
    "- Visualizar tendências lineares entre duas variáveis\n",
    "- Estimar relações preditivas simples\n",
    "- Identificar padrões e desvios em relação à linha de tendência\n",
    "- Avaliar a força da associação entre variáveis\n",
    "\n",
    "Neste notebook, usamos o `regplot` para analisar a relação entre `idade` e `salario`.\n",
    "Esse tipo de gráfico nos permite observar se há uma tendência de aumento salarial conforme a idade avança, o que pode indicar uma correlação positiva."
   ],
   "id": "b148ea4e1cbc29d2"
  },
  {
   "metadata": {},
   "cell_type": "code",
   "outputs": [],
   "execution_count": null,
   "source": [
    "sns.regplot(x='idade', y='salario', data=df, color='#278f65', scatter_kws={'alpha': 0.5, 'color': '#34c289'})\n",
    "plt.title('Regressão de Salário por Idade')\n",
    "plt.xlabel('Idade')\n",
    "plt.ylabel('Salario')\n",
    "plt.show()"
   ],
   "id": "81d035780eafd534"
  },
  {
   "metadata": {},
   "cell_type": "markdown",
   "source": [
    "## 6. Gráfico de Barras Segmentado – Estado Civil vs Escolaridade\n",
    "\n",
    "Utilizamos `countplot` com `hue` para segmentar a contagem de clientes por estado civil e nível de educação.\n",
    "\n",
    "O `countplot` exibe a **frequência de categorias** em uma variável qualitativa.\n",
    "Ao adicionar o parâmetro `hue`, é possível segmentar os dados por uma segunda variável, permitindo **comparações entre grupos**.\n",
    "\n",
    "Use `countplot` com `hue` quando quiser:\n",
    "- Comparar categorias principais e secundárias\n",
    "- Visualizar distribuições segmentadas\n",
    "- Identificar padrões entre grupos\n",
    "- Explorar interações entre variáveis categóricas\n",
    "\n",
    "Neste notebook, usamos o `countplot` para analisar a variável `estado_civil` segmentada por `nivel_educacao`.\n",
    "Esse tipo de gráfico nos permite comparar o perfil educacional dentro de cada grupo de estado civil, revelando padrões demográficos importantes."
   ],
   "id": "c9045965366f973d"
  },
  {
   "metadata": {},
   "cell_type": "code",
   "outputs": [],
   "execution_count": null,
   "source": [
    "sns.countplot(x='estado_civil', hue='nivel_educacao', data=df, palette='pastel')\n",
    "plt.xlabel('Estado Civil')\n",
    "plt.ylabel('Quantidade Clientes')\n",
    "plt.legend(title='Nível de Educação')\n",
    "plt.show()"
   ],
   "id": "1ab3c7f5ceca6fc2"
  },
  {
   "metadata": {},
   "cell_type": "markdown",
   "source": [
    "#### Observações:\n",
    "\n",
    "- O `jointplot` combina dispersão com histogramas marginais, útil para entender distribuição conjunta.\n",
    "- O `pairplot` é excelente para explorar múltiplas relações simultaneamente.\n",
    "- O `regplot` mostra tendências lineares e pode ser usado para prever comportamentos.\n",
    "- O `countplot` com `hue` permite segmentar categorias e comparar grupos.\n",
    "- Para análises mais profundas, recomenda-se aplicar filtros ou agrupar os dados por faixas etárias ou regiões.\n",
    "\n",
    "Documentação da biblioteca `seaborn`\n",
    "\n",
    "https://seaborn.pydata.org/tutorial/color_palettes.html"
   ],
   "id": "e159193fd6138f5f"
  }
 ],
 "metadata": {
  "kernelspec": {
   "display_name": "Python 3",
   "language": "python",
   "name": "python3"
  },
  "language_info": {
   "codemirror_mode": {
    "name": "ipython",
    "version": 2
   },
   "file_extension": ".py",
   "mimetype": "text/x-python",
   "name": "python",
   "nbconvert_exporter": "python",
   "pygments_lexer": "ipython2",
   "version": "2.7.6"
  }
 },
 "nbformat": 4,
 "nbformat_minor": 5
}
