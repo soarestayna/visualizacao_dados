{
 "cells": [
  {
   "metadata": {},
   "cell_type": "markdown",
   "source": "# Visualização Categórica e Numérica – Escolaridade, Idade e Salário",
   "id": "289f295004a2f977"
  },
  {
   "metadata": {},
   "cell_type": "markdown",
   "source": [
    "#### Neste notebook exploramos a distribuição da variável `nivel_educacao` e a relação entre `idade` e `salario`.\n",
    "#### Utilizamos `matplotlib` e `pandas` para criar gráficos de barras, pizza e dispersão hexagonal."
   ],
   "id": "96a0921d65f642f8"
  },
  {
   "metadata": {},
   "cell_type": "markdown",
   "source": [
    "## 1. Leitura dos Dados\n",
    "\n",
    "Importamos o dataset `clientes-v3-preparado.csv` e visualizamos os primeiros registros.\n",
    "\n",
    "- `pandas` – manipulação de dados\n",
    "- `matplotlib.pyplot` – criação de gráficos\n",
    "- `pathlib` – gerenciamento de caminhos de arquivos"
   ],
   "id": "ddf782b7358e35e5"
  },
  {
   "metadata": {},
   "cell_type": "code",
   "outputs": [],
   "execution_count": null,
   "source": [
    "import matplotlib.pyplot as plt\n",
    "import pandas as pd\n",
    "from pathlib import Path\n",
    "\n",
    "data_path = Path('../dataset/clientes-v3-preparado.csv')\n",
    "df = pd.read_csv(data_path)\n",
    "print(df.head(20).to_string())"
   ],
   "id": "6201be51ee4b82dd"
  },
  {
   "metadata": {},
   "cell_type": "markdown",
   "source": [
    "## 2. Gráfico de Barras – Distribuição de Escolaridade\n",
    "\n",
    "Visualizamos a frequência dos diferentes níveis de educação com dois estilos de gráfico de barras.\n",
    "\n",
    "O gráfico de barras mostra a quantidade de cada categoria de uma variável.\n",
    "É útil para entender quais categorias são mais frequentes, comparar grupos e identificar padrões de distribuição.\n",
    "\n",
    "Use gráficos de barras quando quiser:\n",
    "- Visualizar a frequência de categorias\n",
    "- Comparar diferentes grupos\n",
    "- Identificar categorias dominantes ou pouco representadas\n",
    "- Apresentar dados categóricos em relatórios e dashboards\n",
    "\n",
    "Neste notebook, usamos o gráfico de barras para visualizar a variável `nivel_educacao`.\n",
    "Esse tipo de gráfico nos permite observar quais níveis de escolaridade são mais comuns entre os clientes, facilitando a análise do perfil educacional da base de dados."
   ],
   "id": "d9ccf44fe5a61ca4"
  },
  {
   "metadata": {},
   "cell_type": "code",
   "outputs": [],
   "execution_count": null,
   "source": [
    "# Gráfico de Barras\n",
    "plt.figure(figsize=(10, 6))\n",
    "df['nivel_educacao'].value_counts().plot(kind='bar', color='#90ee70')\n",
    "plt.title('Divisão de Escolaridade - 1')\n",
    "plt.xlabel('Nível de Educação')\n",
    "plt.ylabel('Quantidade')\n",
    "plt.xticks(rotation=0)\n",
    "plt.show()\n",
    "\n",
    "\n",
    "# Gráfico de barras com matplotlib\n",
    "x = df['nivel_educacao'].value_counts().index\n",
    "y = df['nivel_educacao'].value_counts().values\n",
    "\n",
    "plt.figure(figsize=(10, 6))\n",
    "plt.bar(x, y, color='#60aa65')\n",
    "plt.title('Divisão de Escolaridade - 2')\n",
    "plt.xlabel('Nível de Educação')\n",
    "plt.ylabel('Quantidade')"
   ],
   "id": "d53358772250eaad"
  },
  {
   "metadata": {},
   "cell_type": "markdown",
   "source": [
    "## 3. Gráfico de Pizza – Proporção de Escolaridade\n",
    "\n",
    "Visualizamos a distribuição percentual dos níveis de educação.\n",
    "\n",
    "O gráfico de pizza mostra uma proporção de cada categoria em relação ao total.\n",
    "Cada fatia representa uma categoria, e seu tamanho é proporcional à sua frequência.\n",
    "\n",
    "Use gráficos de pizza quando quiser:\n",
    "- Destacar a participação percentual de cada grupo\n",
    "- Apresentar dados categóricos com **poucas** categorias\n",
    "- Criar visualizações intuitivas e de fácil leitura\n",
    "\n",
    "Neste notebook, usamos o gráfico de pizza para visualizar a variável `nivel_educacao`.\n",
    "Esse tipo de gráfico nos permite observar rapidamente quais níveis de escolaridade representam os clientes.\n"
   ],
   "id": "f461f114177b010e"
  },
  {
   "metadata": {},
   "cell_type": "code",
   "outputs": [],
   "execution_count": null,
   "source": [
    "plt.figure(figsize=(10, 6))\n",
    "plt.pie(y, labels=x, autopct='%.1f%%', startangle=90)\n",
    "plt.title('Distribuição de Nível de Educação')\n",
    "plt.show()"
   ],
   "id": "10b76cc17d394af3"
  },
  {
   "metadata": {},
   "cell_type": "markdown",
   "source": [
    "## 4. Gráfico de Dispersão Hexagonal – Idade vs Salário\n",
    "\n",
    "Utilizamos `hexbin` para visualizar a densidade de pontos entre `idade` e `salario`.\n",
    "\n",
    "O gráfico de dispersão hexagonal é uma variação do scatter plot que agrupa os pontos em hexagonais, coloridas conforme a densidade de dados.\n",
    "É útil para grandes volumes de dados, onde os pontos se sobrepõem e dificultam a visualização.\n",
    "\n",
    "Use gráficos hexagonais quando quiser:\n",
    "- Visualizar relações entre duas variáveis numéricas com alta densidade\n",
    "- Identificar áreas de maior concentração dos dados\n",
    "- Reduzir sobreposições em gráficos de dispersão tradicionais\n",
    "- Explorar padrões em grandes bases de dados\n",
    "\n",
    "Neste notebook, usamos o gráfico de dispersão para visualizar a relação entre `idade` e `salario`.\n",
    "Esse tipo de gráfico nos permite identificar faixas etárias e salariais com maior concentração de clientes, revelando padrões importantes para análise demográfica e financeira.\n",
    "\n"
   ],
   "id": "ca2b39ad1aa51685"
  },
  {
   "metadata": {},
   "cell_type": "code",
   "outputs": [],
   "execution_count": null,
   "source": [
    "plt.hexbin(df['idade'], df['salario'], gridsize=40, cmap='Blues')\n",
    "plt.colorbar(label='Contagem dentro do bin')\n",
    "plt.xlabel('Idade')\n",
    "plt.ylabel('Salário')\n",
    "plt.title('Dispersão de Idade e Salário')\n",
    "plt.show()"
   ],
   "id": "f5b97c52859a01fe"
  },
  {
   "metadata": {},
   "cell_type": "markdown",
   "source": [
    "#### Observações:\n",
    "\n",
    "- Os gráficos de barras e pizza ajudam a entender a composição categórica dos dados.\n",
    "- O gráfico de dispersão hexagonal é útil para visualizar concentração de dados em faixas específicas.\n",
    "- A variável `nivel_educacao` pode ser cruzada com outras variáveis para análises mais profundas, como salário médio por escolaridade.\n",
    "\n",
    "\n",
    "Documentação da biblioteca `pandas`\n",
    "\n",
    "https://pandas.pydata.org/docs/reference/api/pandas.DataFrame.plot.html#pandas"
   ],
   "id": "710fe5bb7a28921f"
  }
 ],
 "metadata": {
  "kernelspec": {
   "display_name": "Python 3",
   "language": "python",
   "name": "python3"
  },
  "language_info": {
   "codemirror_mode": {
    "name": "ipython",
    "version": 2
   },
   "file_extension": ".py",
   "mimetype": "text/x-python",
   "name": "python",
   "nbconvert_exporter": "python",
   "pygments_lexer": "ipython2",
   "version": "2.7.6"
  }
 },
 "nbformat": 4,
 "nbformat_minor": 5
}
