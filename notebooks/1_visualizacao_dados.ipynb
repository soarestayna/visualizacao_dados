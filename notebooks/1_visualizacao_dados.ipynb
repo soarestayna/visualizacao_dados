{
 "cells": [
  {
   "metadata": {},
   "cell_type": "markdown",
   "source": [
    "# Visualização de Dados – Distribuição, Dispersão e Correlação\n",
    "\n",
    "---\n",
    "\n",
    "### Este notebook faz parte do portfólio acadêmico do curso de Análise de Dados – EBAC.\n",
    "\n",
    "---\n"
   ],
   "id": "f039306cd5ebf280"
  },
  {
   "metadata": {},
   "cell_type": "markdown",
   "source": [
    "#### Neste notebook realizamos a visualização da variável `salario` e sua relação com `anos_experiencia`.\n",
    "#### Utilizamos `matplotlib` e `seaborn` para criar histogramas, gráficos de dispersão e mapas de calor."
   ],
   "id": "bed0c87e21f21322"
  },
  {
   "metadata": {},
   "cell_type": "markdown",
   "source": [
    "## 1. Leitura dos Dados\n",
    "\n",
    "Importamos o dataset `clientes-v3-preparado.csv` e visualizamos as primeiras linhas.\n",
    "\n",
    "- `pandas` – manipulação de dados\n",
    "- `matplotlib.pyplot` – criação de gráficos\n",
    "- `seaborn` – visualizações estatísticas\n",
    "-  `pathlib` – gerenciamento de caminhos de arquivos"
   ],
   "id": "c6139928625d6566"
  },
  {
   "metadata": {},
   "cell_type": "code",
   "outputs": [],
   "execution_count": null,
   "source": [
    "import pandas as pd\n",
    "import matplotlib.pyplot as plt\n",
    "import seaborn as sns\n",
    "from pathlib import Path\n",
    "\n",
    "data_path = Path('../dataset/clientes-v3-preparado.csv')\n",
    "df = pd.read_csv(data_path)\n",
    "print(df.head().to_string())"
   ],
   "id": "b09139bb34cc6ca3"
  },
  {
   "metadata": {},
   "cell_type": "markdown",
   "source": [
    "## 2. Histograma – Distribuição de Salários\n",
    "\n",
    "Visualizamos a distribuição da variável `salario` com diferentes configurações de estilo.\n",
    "\n",
    "\n",
    "O histograma é uma representação gráfica da distribuição de uma variável numérica.\n",
    "E é útil para entender a distribuição dos dados, presença de outliers ou valores extremos e frequência de faixas específicas de valores.\n",
    "\n",
    "Use histogramas quando quiser:\n",
    "- Verificar se os dados seguem uma distribuição normal\n",
    "- Identificar padrões de concentração ou dispersão\n",
    "- Avaliar a necessidade de transformação de variáveis (como logaritmo ou padronização)\n",
    "- Explorar dados antes de aplicar modelos estatísticos ou de machine learning\n",
    "\n",
    "Neste notebook, usamos o histograma para visualizar a variável `salario`.\n",
    "Esse tipo de gráfico nos permite observar a distribuição dos salários entre os clientes, identificando se há concentração em faixas específicas e se existem valores extremos que destoam da maioria."
   ],
   "id": "666445d8e89cfaee"
  },
  {
   "metadata": {},
   "cell_type": "code",
   "outputs": [],
   "execution_count": null,
   "source": [
    "# Histograma\n",
    "plt.hist(df['salario'])\n",
    "plt.show()\n",
    "\n",
    "# Histograma - Parâmetros\n",
    "plt.figure(figsize=(10, 6))\n",
    "plt.hist(df['salario'], bins=100, color='green', alpha=0.8)\n",
    "plt.title('Histograma - Distribuição de Salários')\n",
    "plt.xlabel('Salário')\n",
    "plt.xticks(ticks=range(0, int(df['salario'].max())+2000, 2000))\n",
    "plt.ylabel('Frequência')\n",
    "plt.grid(True)\n",
    "plt.show()"
   ],
   "id": "de93a59fb384111a"
  },
  {
   "metadata": {},
   "cell_type": "markdown",
   "source": [
    "## 3. Gráficos de Dispersão e Correlação\n",
    "\n",
    "Criamos múltiplos gráficos para explorar a relação entre `salario` e `anos_experiencia`.\n",
    "\n",
    "\n",
    "O gráfico de dispersão mostra a relação entre duas variáveis numéricas.\n",
    "Ele é ideal para identificar padrões, tendências e possíveis correlações.\n",
    "\n",
    "Use gráficos de dispersão quando quiser:\n",
    "- Verificar se existe uma relação linear ou não linear entre duas variáveis\n",
    "- Identificar agrupamentos ou outliers\n",
    "- Avaliar a força e direção da relação entre variáveis antes de aplicar modelos preditivos\n",
    "\n",
    "Neste notebook, usamos o gráfico de dispersão para visualizar a relação entre `salario` e `anos_experiencia`.\n",
    "Isso nos ajuda a entender se, conforme os anos de experiência aumentam, os salários também tendem a subir, o que pode indicar uma correlação positiva.\n",
    "\n"
   ],
   "id": "bf20e967772dfa5f"
  },
  {
   "metadata": {},
   "cell_type": "code",
   "outputs": [],
   "execution_count": null,
   "source": [
    "# Múltiplos gráficos\n",
    "plt.figure(figsize=(10, 6))\n",
    "plt.subplot(2, 2, 1) # 2 Linhas, 2 Colunas, 1º Gráfico\n",
    "\n",
    "# Gráfico de Dispersão\n",
    "plt.scatter(df['salario'], df['salario'])\n",
    "plt.title('Dispersão - Salário e Salário')\n",
    "plt.xlabel('Salário')\n",
    "plt.ylabel('Salário')\n",
    "\n",
    "plt.subplot(1, 2, 2) # 1 Linha, 2 Colunas, 2º Gráficos\n",
    "plt.scatter(df['salario'], df['anos_experiencia'], color='#5883a8', alpha=0.6, s=30) # cor hexadecimal online\n",
    "plt.title('Dispersão - Idade e Anos de Experiência')\n",
    "plt.xlabel('Salário')\n",
    "plt.ylabel('Anos de experiência')"
   ],
   "id": "3c603054a348621"
  },
  {
   "metadata": {},
   "cell_type": "markdown",
   "source": [
    "O mapa de calor é uma representação visual de uma matriz de correlação, onde as cores indicam a intensidade da relação entre variáveis.\n",
    "Ele facilita a identificação rápida de quais variáveis estão mais relacionadas.\n",
    "\n",
    "Use mapas de calor quando quiser:\n",
    "- Explorar correlações entre múltiplas variáveis numéricas\n",
    "- Identificar variáveis que podem ser redundantes ou fortemente associadas\n",
    "- Guiar a seleção de variáveis para modelos estatísticos ou de machine learning\n",
    "\n",
    "Neste notebook, o mapa de calor mostra a correlação entre `salario` e `anos_experiencia`.\n",
    "Um valor próximo de +1 indica correlação positiva forte, enquanto valores próximos de 0 indicam pouca ou nenhuma correlação.\n"
   ],
   "id": "15a2debd6b41d7ec"
  },
  {
   "metadata": {},
   "cell_type": "code",
   "outputs": [],
   "execution_count": null,
   "source": [
    "# Mapa de Calor\n",
    "corr = df[['salario', 'anos_experiencia']].corr()\n",
    "plt.subplot(2, 2, 3) # 1 Linha, 2 Colunas, 3º Gráfico\n",
    "sns.heatmap(corr, annot=True, cmap='coolwarm')\n",
    "plt.title('Correlação Salário e Idade')\n",
    "\n",
    "plt.tight_layout() # Ajustar espaçamentos\n",
    "plt.show()"
   ],
   "id": "306ca225d89d990d"
  },
  {
   "metadata": {},
   "cell_type": "markdown",
   "source": [
    "#### Observações:\n",
    "\n",
    "- O histograma mostra a distribuição dos salários, útil para identificar assimetrias ou outliers.\n",
    "- O gráfico de dispersão ajuda a visualizar relações entre variáveis numéricas.\n",
    "- O mapa de calor revela a força da correlação entre `salario` e `anos_experiencia`.\n",
    "- Para análises mais profundas, recomenda-se incluir outras variáveis como `idade` ou `nível de educação`."
   ],
   "id": "685ce55c5c7502e"
  }
 ],
 "metadata": {
  "kernelspec": {
   "display_name": "Python 3",
   "language": "python",
   "name": "python3"
  },
  "language_info": {
   "codemirror_mode": {
    "name": "ipython",
    "version": 2
   },
   "file_extension": ".py",
   "mimetype": "text/x-python",
   "name": "python",
   "nbconvert_exporter": "python",
   "pygments_lexer": "ipython2",
   "version": "2.7.6"
  }
 },
 "nbformat": 4,
 "nbformat_minor": 5
}
