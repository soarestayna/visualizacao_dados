{
 "cells": [
  {
   "metadata": {},
   "cell_type": "markdown",
   "source": "# Visualização de Correlação e Distribuição Categórica",
   "id": "b3ea3c3d504fb2da"
  },
  {
   "metadata": {},
   "cell_type": "markdown",
   "source": [
    "#### Neste notebook realizamos a análise de correlação entre variáveis numéricas e a distribuição de categorias como `estado_civil` e `nivel_educacao`.\n",
    "#### Utilizamos `matplotlib` e `seaborn` para criar mapas de calor e gráficos de barras segmentados.\n",
    "\n",
    "---\n"
   ],
   "id": "617dc3b44e842d35"
  },
  {
   "metadata": {},
   "cell_type": "markdown",
   "source": [
    "## 1. Leitura dos Dados\n",
    "\n",
    "Importamos o dataset `clientes-v3-preparado.csv` e selecionamos as variáveis relevantes para análise.\n",
    "\n",
    "- `pandas` – manipulação de dados\n",
    "- `matplotlib.pyplot` – criação de gráficos\n",
    "- `seaborn` – visualizações estatísticas\n",
    "- `pathlib` – gerenciamento de caminhos de arquivos\n",
    "\n",
    "---\n"
   ],
   "id": "7aab2b7135554fe5"
  },
  {
   "metadata": {},
   "cell_type": "code",
   "outputs": [],
   "execution_count": null,
   "source": [
    "import pandas as pd\n",
    "import matplotlib.pyplot as plt\n",
    "import seaborn as sns\n",
    "from pathlib import Path\n",
    "\n",
    "sns.set_style('whitegrid')  # Estilo visual para os gráficos\n",
    "\n",
    "data_path = Path('../dataset/clientes-v3-preparado.csv')\n",
    "df = pd.read_csv(data_path)"
   ],
   "id": "cc6f1f2ff2ffd342"
  },
  {
   "metadata": {},
   "cell_type": "markdown",
   "source": [
    "## 2. Mapa de Calor – Correlação entre Variáveis Numéricas\n",
    "\n",
    "O mapa de calor é uma representação visual da matriz de correlação.\n",
    "Ele facilita a identificação de relações fortes entre variáveis, como `salario`, `idade`, `anos_experiencia`, entre outras."
   ],
   "id": "853bb64bfb50340b"
  },
  {
   "metadata": {},
   "cell_type": "code",
   "outputs": [],
   "execution_count": null,
   "source": [
    "df_corr = df[['salario', 'idade', 'anos_experiencia', 'numero_filhos',\n",
    "              'nivel_educacao_cod', 'area_atuacao_cod']].corr()\n",
    "\n",
    "plt.figure(figsize=(10, 8))\n",
    "sns.heatmap(df_corr, annot=True, fmt='.2f', cmap='coolwarm')\n",
    "plt.title('Mapa de Calor da Correlação entre Variáveis')\n",
    "plt.show()"
   ],
   "id": "b9d0b1f78617daa"
  },
  {
   "metadata": {},
   "cell_type": "markdown",
   "source": [
    "## 3. Countplot – Distribuição do Estado Civil\n",
    "\n",
    "O `countplot` mostra a frequência de cada categoria em uma variável.\n",
    "Neste caso, visualizamos a distribuição de clientes por estado civil."
   ],
   "id": "c6cf1c89f9987896"
  },
  {
   "metadata": {},
   "cell_type": "code",
   "outputs": [],
   "execution_count": null,
   "source": [
    "sns.countplot(x='estado_civil', data=df)\n",
    "plt.title('Distribuição do Estado Civil')\n",
    "plt.xlabel('Estado Civil')\n",
    "plt.ylabel('Contagem')\n",
    "plt.show()"
   ],
   "id": "9d174c9a7ca46cf4"
  },
  {
   "metadata": {},
   "cell_type": "markdown",
   "source": [
    "## 4. Countplot Segmentado – Estado Civil por Nível de Educação\n",
    "\n",
    "Utilizamos `hue` para segmentar a contagem por `nivel_educacao`, permitindo comparar grupos dentro de cada categoria de estado civil."
   ],
   "id": "cab46048b0462676"
  },
  {
   "metadata": {},
   "cell_type": "code",
   "outputs": [],
   "execution_count": null,
   "source": [
    "sns.countplot(x='estado_civil', hue='nivel_educacao', data=df, palette='pastel')\n",
    "plt.title('Distribuição do Estado Civil por Nível de Educação')\n",
    "plt.xlabel('Estado Civil')\n",
    "plt.ylabel('Contagem')\n",
    "plt.legend(title='Nível de Educação')\n",
    "plt.show()"
   ],
   "id": "365889101bd2c588"
  },
  {
   "metadata": {},
   "cell_type": "markdown",
   "source": [
    "## Conclusão\n",
    "\n",
    "- O mapa de calor revelou correlações relevantes entre `salario`, `anos_experiencia` e `nivel_educacao_cod`.\n",
    "- A distribuição de estado civil mostrou predominância de certos grupos, como solteiros ou casados.\n",
    "- A segmentação por nível de educação evidenciou va\n",
    "\n"
   ],
   "id": "56d8936d71dce3b3"
  }
 ],
 "metadata": {
  "kernelspec": {
   "display_name": "Python 3",
   "language": "python",
   "name": "python3"
  },
  "language_info": {
   "codemirror_mode": {
    "name": "ipython",
    "version": 2
   },
   "file_extension": ".py",
   "mimetype": "text/x-python",
   "name": "python",
   "nbconvert_exporter": "python",
   "pygments_lexer": "ipython2",
   "version": "2.7.6"
  }
 },
 "nbformat": 4,
 "nbformat_minor": 5
}
